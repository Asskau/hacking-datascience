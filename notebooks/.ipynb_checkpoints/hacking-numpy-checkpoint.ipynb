{
 "cells": [
  {
   "cell_type": "code",
   "execution_count": 2,
   "metadata": {},
   "outputs": [],
   "source": [
    "import numpy as np"
   ]
  },
  {
   "cell_type": "markdown",
   "metadata": {},
   "source": [
    "# Random Seed"
   ]
  },
  {
   "cell_type": "code",
   "execution_count": 85,
   "metadata": {},
   "outputs": [
    {
     "name": "stdout",
     "output_type": "stream",
     "text": [
      "[0.87012414 0.58227693 0.27883894]\n",
      "[0.87012414 0.58227693 0.27883894]\n",
      "[0.18591123 0.41110013 0.11737555]\n",
      "[0.68496874 0.43761106 0.55622933]\n"
     ]
    }
   ],
   "source": [
    "np.random.seed(25)\n",
    "print(np.random.rand(3))\n",
    "\n",
    "np.random.seed(25)\n",
    "print(np.random.rand(3))\n",
    "\n",
    "print(np.random.rand(3))\n",
    "print(np.random.rand(3))"
   ]
  },
  {
   "cell_type": "markdown",
   "metadata": {},
   "source": [
    "# Reshape"
   ]
  },
  {
   "cell_type": "code",
   "execution_count": 122,
   "metadata": {},
   "outputs": [
    {
     "name": "stdout",
     "output_type": "stream",
     "text": [
      "[0 1 2 3] \n",
      "\n",
      "[[0 1]\n",
      " [2 3]] \n",
      "\n",
      "[0 1 2 3]\n"
     ]
    }
   ],
   "source": [
    "a = np.arange(4)\n",
    "print(a,'\\n')\n",
    "\n",
    "b = np.reshape(a,(2,2))\n",
    "print(b, '\\n')\n",
    "\n",
    "c = b.reshape((4,))\n",
    "print(c)"
   ]
  },
  {
   "cell_type": "markdown",
   "metadata": {},
   "source": [
    "# Iter"
   ]
  },
  {
   "cell_type": "code",
   "execution_count": 132,
   "metadata": {},
   "outputs": [
    {
     "name": "stdout",
     "output_type": "stream",
     "text": [
      "0\n",
      "1\n",
      "2\n",
      "3\n"
     ]
    }
   ],
   "source": [
    "a = np.arange(4).reshape((2,2))\n",
    "for i in np.nditer(a):\n",
    "    print(i)"
   ]
  },
  {
   "cell_type": "code",
   "execution_count": 162,
   "metadata": {},
   "outputs": [
    {
     "name": "stdout",
     "output_type": "stream",
     "text": [
      "[2 4 6 8]\n",
      "[False False  True  True]\n",
      "[2 3]\n"
     ]
    }
   ],
   "source": [
    "a = np.arange(2,10,2)\n",
    "print(a)\n",
    "print(a>5)\n",
    "b = np.flatnonzero(a>5)\n",
    "print(b)"
   ]
  },
  {
   "cell_type": "markdown",
   "metadata": {},
   "source": [
    "# Argsort"
   ]
  },
  {
   "cell_type": "code",
   "execution_count": 11,
   "metadata": {},
   "outputs": [
    {
     "name": "stdout",
     "output_type": "stream",
     "text": [
      "[24 22 13 26 31 20 29 32 34 19]\n",
      "[146 141 166 191 169 203 149 135 170 152]\n",
      "[13 19 20 22 24 26 29 31 32 34]\n",
      "[166 152 203 141 146 191 149 169 135 170]\n"
     ]
    }
   ],
   "source": [
    "ages = np.random.randint(10,50,10)\n",
    "heights = np.random.randint(120,210,10)\n",
    "print(ages)\n",
    "print(heights)\n",
    "\n",
    "sorter = np.argsort(ages)\n",
    "\n",
    "print(ages[sorter])\n",
    "print(heights[sorter])"
   ]
  },
  {
   "cell_type": "markdown",
   "metadata": {},
   "source": [
    "# ufunc.at"
   ]
  },
  {
   "cell_type": "code",
   "execution_count": 73,
   "metadata": {},
   "outputs": [
    {
     "name": "stdout",
     "output_type": "stream",
     "text": [
      "[8 5 7 6 5]\n",
      "[8 5 7 6 5]\n",
      "[60 60 60  6  5]\n"
     ]
    }
   ],
   "source": [
    "# a = np.random.randint(5,10,5)\n",
    "print(a)\n",
    "\n",
    "np.add.at(a,np.flatnonzero(a>),2) #adds 2\n",
    "print(a)\n",
    "\n",
    "np.maximum.at(a,[0,1,2],60) #checks the max value\n",
    "print(a)"
   ]
  }
 ],
 "metadata": {
  "kernelspec": {
   "display_name": "Python 3",
   "language": "python",
   "name": "python3"
  },
  "language_info": {
   "codemirror_mode": {
    "name": "ipython",
    "version": 3
   },
   "file_extension": ".py",
   "mimetype": "text/x-python",
   "name": "python",
   "nbconvert_exporter": "python",
   "pygments_lexer": "ipython3",
   "version": "3.6.5"
  }
 },
 "nbformat": 4,
 "nbformat_minor": 2
}
