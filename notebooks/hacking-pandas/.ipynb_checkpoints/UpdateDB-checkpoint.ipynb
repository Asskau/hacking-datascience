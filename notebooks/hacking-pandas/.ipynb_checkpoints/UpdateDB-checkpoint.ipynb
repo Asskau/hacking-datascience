{
 "cells": [
  {
   "cell_type": "code",
   "execution_count": 1,
   "metadata": {},
   "outputs": [],
   "source": [
    "import sqlalchemy as db"
   ]
  },
  {
   "cell_type": "code",
   "execution_count": null,
   "metadata": {},
   "outputs": [],
   "source": [
    "engine = db.create_engine('sqlite:///.sqlite')"
   ]
  },
  {
   "cell_type": "code",
   "execution_count": null,
   "metadata": {},
   "outputs": [],
   "source": [
    "# Build a select statement: select_stmt\n",
    "select_stmt = select([state_fact]).where(state_fact.columns.name == 'New York')\n",
    "\n",
    "# Print the results of executing the select_stmt\n",
    "print(connection.execute(select_stmt).fetchall())\n",
    "\n",
    "# Build a statement to update the fips_state to 36: stmt\n",
    "stmt = update(state_fact).values(fips_state = 36)\n",
    "\n",
    "# Append a where clause to limit it to records for New York state\n",
    "stmt = stmt.where(state_fact.columns.name == 'New York')\n",
    "\n",
    "# Execute the statement: results\n",
    "results = connection.execute(stmt)"
   ]
  }
 ],
 "metadata": {
  "kernelspec": {
   "display_name": "Python 3",
   "language": "python",
   "name": "python3"
  },
  "language_info": {
   "codemirror_mode": {
    "name": "ipython",
    "version": 3
   },
   "file_extension": ".py",
   "mimetype": "text/x-python",
   "name": "python",
   "nbconvert_exporter": "python",
   "pygments_lexer": "ipython3",
   "version": "3.6.5"
  }
 },
 "nbformat": 4,
 "nbformat_minor": 2
}
