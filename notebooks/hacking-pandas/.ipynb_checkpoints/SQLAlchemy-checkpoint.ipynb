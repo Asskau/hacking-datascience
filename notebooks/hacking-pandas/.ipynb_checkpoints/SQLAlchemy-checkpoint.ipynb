{
 "cells": [
  {
   "cell_type": "code",
   "execution_count": 63,
   "metadata": {},
   "outputs": [],
   "source": [
    "connection = engine.connect()\n",
    "query = db.select([census])"
   ]
  },
  {
   "cell_type": "code",
   "execution_count": 65,
   "metadata": {},
   "outputs": [
    {
     "data": {
      "text/plain": [
       "[('California', 'F', 0, 239605, 274356),\n",
       " ('California', 'F', 1, 236543, 269140),\n",
       " ('California', 'F', 2, 240010, 262556)]"
      ]
     },
     "execution_count": 65,
     "metadata": {},
     "output_type": "execute_result"
    }
   ],
   "source": [
    "query = query.where(db.and_(census.columns.state == 'California', census.columns.sex != 'M'))\n",
    "result = connection.execute(query).fetchall()\n",
    "result[:3]"
   ]
  },
  {
   "cell_type": "code",
   "execution_count": 72,
   "metadata": {},
   "outputs": [
    {
     "data": {
      "text/plain": [
       "[('California', 'F', 0, 239605, 274356),\n",
       " ('California', 'F', 1, 236543, 269140),\n",
       " ('California', 'F', 2, 240010, 262556)]"
      ]
     },
     "execution_count": 72,
     "metadata": {},
     "output_type": "execute_result"
    }
   ],
   "source": [
    "query = query.order_by(db.(census.columns.state))\n",
    "result = connection.execute(query).fetchall()\n",
    "result[:3]"
   ]
  }
 ],
 "metadata": {
  "kernelspec": {
   "display_name": "Python 3",
   "language": "python",
   "name": "python3"
  },
  "language_info": {
   "codemirror_mode": {
    "name": "ipython",
    "version": 3
   },
   "file_extension": ".py",
   "mimetype": "text/x-python",
   "name": "python",
   "nbconvert_exporter": "python",
   "pygments_lexer": "ipython3",
   "version": "3.6.5"
  }
 },
 "nbformat": 4,
 "nbformat_minor": 2
}
